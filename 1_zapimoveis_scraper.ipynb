{
 "cells": [
  {
   "cell_type": "markdown",
   "metadata": {},
   "source": [
    "# Zap Imóveis Scraper"
   ]
  },
  {
   "cell_type": "markdown",
   "metadata": {},
   "source": [
    "Este notebook é responsável por varrer o site zapimoveis.com.br em busca dos imóveis de interesse, para a criação de uma base de dados. A título de exemplo, este projeto se baseará apenas em casas disponíveis na cidade de Palmas - TO."
   ]
  },
  {
   "cell_type": "code",
   "execution_count": 1,
   "metadata": {},
   "outputs": [],
   "source": [
    "import numpy as np\n",
    "import pandas as pd\n",
    "import re\n",
    "import requests\n",
    "from bs4 import BeautifulSoup"
   ]
  },
  {
   "cell_type": "markdown",
   "metadata": {},
   "source": [
    "#### Quantos imóveis estão disponíveis? Em quantas páginas?"
   ]
  },
  {
   "cell_type": "code",
   "execution_count": 2,
   "metadata": {},
   "outputs": [
    {
     "name": "stdout",
     "output_type": "stream",
     "text": [
      "Total de Imóveis: 1483. Por página: 24. Páginas: 62\n"
     ]
    }
   ],
   "source": [
    "# Este projeto analisará casas à venda, disponíveis no site www.zapimoveis.com.br\n",
    "url_base = 'https://www.zapimoveis.com.br/venda/casas/to+palmas/'\n",
    "headers = {'User-Agent': 'Mozilla/5.0 (Windows NT 6.1; WOW64; rv:50.0) Gecko/20100101 Firefox/50.0'}\n",
    "\n",
    "# Realizando o primeiro request e criando um soup\n",
    "pagina_1 = BeautifulSoup(requests.get(url_base, headers=headers).text, 'html.parser')\n",
    "\n",
    "# Quantos imóveis foram encontrados?\n",
    "total_imoveis = str.split( pagina_1.find('header', 'summary').find('h1', 'js-summary-title').text )[0]\n",
    "total_imoveis = int(str.replace(total_imoveis, '.', ''))\n",
    "\n",
    "# Quantos imóveis aparecem na primeira página?\n",
    "imoveis_por_pg = len(pagina_1.find('div', 'listings__container').findChildren(\"div\", recursive=False))\n",
    "\n",
    "# Quantas páginas no total?\n",
    "total_paginas = int(np.ceil( total_imoveis/imoveis_por_pg ))\n",
    "#total_paginas = 2\n",
    "\n",
    "print(f'Total de Imóveis: {total_imoveis}. Por página: {imoveis_por_pg}. Páginas: {total_paginas}')"
   ]
  },
  {
   "cell_type": "markdown",
   "metadata": {},
   "source": [
    "#### Função responsável por extrair todos os dados de interesse de uma página, imóvel a imóvel"
   ]
  },
  {
   "cell_type": "code",
   "execution_count": 3,
   "metadata": {},
   "outputs": [],
   "source": [
    "def extrai_dados_da_pg(soup):\n",
    "    \n",
    "    imoveis = soup.find('div', 'listings__container')\n",
    "    \n",
    "    # Por algum problema do site, às vezes a última página de resultados aparece vazia, por isso essa precaução\n",
    "    if imoveis == None:\n",
    "        return ([],[],[],[],[],[])\n",
    "\n",
    "    imoveis = imoveis.findChildren(\"div\" , recursive=False)\n",
    "    precos = []\n",
    "    enderecos = []\n",
    "    areas = []\n",
    "    quartos = []\n",
    "    garagens = []\n",
    "    banheiros = []\n",
    "\n",
    "    for imovel in imoveis:\n",
    "        \n",
    "        preco = str.replace( imovel.find('p', 'simple-card__price').text, '.', '' )\n",
    "        preco = re.findall(r'[0-9]+', preco)[0] #ignora centavos, se tiver\n",
    "        precos.append(int(preco))\n",
    "\n",
    "        endereco = str.replace(imovel.find('h2', 'simple-card__address').text, '\\n', '')\n",
    "        enderecos.append(endereco.strip())\n",
    "\n",
    "        area = re.search(r'[0-9]+', imovel.find('span', attrs={'itemprop':'floorSize'}).text).group(0)\n",
    "        areas.append(int(area))\n",
    "\n",
    "        quarto = imovel.find('span', attrs={'itemprop':'numberOfRooms'}).text\n",
    "        quartos.append(int(quarto.strip()))\n",
    "\n",
    "        garagem = imovel.find('li', 'js-parking-spaces')\n",
    "        if garagem != None:\n",
    "            garagem = int(garagem.findAll('span')[1].text.strip())\n",
    "        else:\n",
    "            garagem = 0\n",
    "        garagens.append(garagem)\n",
    "\n",
    "        banheiro = imovel.find('span', attrs={'itemprop':'numberOfBathroomsTotal'}).text\n",
    "        banheiros.append(int(banheiro.strip()))\n",
    "\n",
    "    return (precos, enderecos, areas, quartos, garagens, banheiros)"
   ]
  },
  {
   "cell_type": "markdown",
   "metadata": {},
   "source": [
    "#### Realizando os requests de busca, página a página, e chamando a função 'extrai_dados_da_pg' para cada página"
   ]
  },
  {
   "cell_type": "code",
   "execution_count": 4,
   "metadata": {},
   "outputs": [],
   "source": [
    "todos_precos = []\n",
    "todos_enderecos = []\n",
    "todas_areas = []\n",
    "todos_quartos = []\n",
    "todas_garagens = []\n",
    "todos_banheiros = []\n",
    "\n",
    "# Coletando os dados, página por página\n",
    "for pag in range(1, total_paginas):\n",
    "    soup = BeautifulSoup(requests.get(url_base + '?pagina=' + str(pag), headers=headers).text, 'html.parser')\n",
    "    precos_pg, enderecos_pg, areas_pg, quartos_pg, garagens_pg, banheiros_pg = extrai_dados_da_pg(soup)\n",
    "    todos_precos.extend(precos_pg)\n",
    "    todos_enderecos.extend(enderecos_pg)\n",
    "    todas_areas.extend(areas_pg)\n",
    "    todos_quartos.extend(quartos_pg)\n",
    "    todas_garagens.extend(garagens_pg)\n",
    "    todos_banheiros.extend(banheiros_pg)"
   ]
  },
  {
   "cell_type": "markdown",
   "metadata": {},
   "source": [
    "### Verificando se a extração ocorreu devidamente:"
   ]
  },
  {
   "cell_type": "code",
   "execution_count": 6,
   "metadata": {},
   "outputs": [
    {
     "name": "stdout",
     "output_type": "stream",
     "text": [
      "IMÓVEL 1:\n",
      "-- Preço: R$ 1000000\n",
      "-- Endereço: Plano Diretor Norte, Palmas\n",
      "-- Area: 112\n",
      "-- Quartos: 3\n",
      "-- Garagens: 4\n",
      "-- Banheiros: 2\n",
      "IMÓVEL 2:\n",
      "-- Preço: R$ 625000\n",
      "-- Endereço: ARSO 43 Alameda 3, Plano Diretor Sul\n",
      "-- Area: 150\n",
      "-- Quartos: 3\n",
      "-- Garagens: 2\n",
      "-- Banheiros: 2\n",
      "IMÓVEL 3:\n",
      "-- Preço: R$ 315000\n",
      "-- Endereço: Quadra ARNE 64 Alameda 2, Plano Diretor Norte\n",
      "-- Area: 115\n",
      "-- Quartos: 3\n",
      "-- Garagens: 3\n",
      "-- Banheiros: 1\n"
     ]
    }
   ],
   "source": [
    "for i in range(3):\n",
    "    print(f'IMÓVEL {i+1}:')\n",
    "    print(f'-- Preço: R$ {todos_precos[i]}')\n",
    "    print(f'-- Endereço: {todos_enderecos[i]}')\n",
    "    print(f'-- Area: {todas_areas[i]}')\n",
    "    print(f'-- Quartos: {todos_quartos[i]}')\n",
    "    print(f'-- Garagens: {todas_garagens[i]}')\n",
    "    print(f'-- Banheiros: {todos_banheiros[i]}')\n",
    "\n",
    "print(\"Total preços: \", len(todos_precos))\n",
    "menores_precos = np.sort(todos_precos)[:5]\n",
    "maiores_precos = np.sort(todos_precos)[::-1][:5]\n",
    "print(\"Menores Preços: \", menores_precos, \"Maiores Preços: \", maiores_precos)"
   ]
  },
  {
   "cell_type": "markdown",
   "metadata": {},
   "source": [
    "#### Criamos um DataFrame para armazenar os dados coletados, fazemos simples conferências e gravamos em um arquivo .csv"
   ]
  },
  {
   "cell_type": "code",
   "execution_count": 8,
   "metadata": {},
   "outputs": [
    {
     "data": {
      "text/html": [
       "<div>\n",
       "<style scoped>\n",
       "    .dataframe tbody tr th:only-of-type {\n",
       "        vertical-align: middle;\n",
       "    }\n",
       "\n",
       "    .dataframe tbody tr th {\n",
       "        vertical-align: top;\n",
       "    }\n",
       "\n",
       "    .dataframe thead th {\n",
       "        text-align: right;\n",
       "    }\n",
       "</style>\n",
       "<table border=\"1\" class=\"dataframe\">\n",
       "  <thead>\n",
       "    <tr style=\"text-align: right;\">\n",
       "      <th></th>\n",
       "      <th>preco</th>\n",
       "      <th>area</th>\n",
       "      <th>quartos</th>\n",
       "      <th>banheiros</th>\n",
       "      <th>garagens</th>\n",
       "    </tr>\n",
       "  </thead>\n",
       "  <tbody>\n",
       "    <tr>\n",
       "      <th>count</th>\n",
       "      <td>1.455000e+03</td>\n",
       "      <td>1455.000000</td>\n",
       "      <td>1455.000000</td>\n",
       "      <td>1455.000000</td>\n",
       "      <td>1455.000000</td>\n",
       "    </tr>\n",
       "    <tr>\n",
       "      <th>mean</th>\n",
       "      <td>8.080155e+05</td>\n",
       "      <td>199.615120</td>\n",
       "      <td>3.104467</td>\n",
       "      <td>2.565636</td>\n",
       "      <td>2.326460</td>\n",
       "    </tr>\n",
       "    <tr>\n",
       "      <th>std</th>\n",
       "      <td>2.151745e+06</td>\n",
       "      <td>171.987841</td>\n",
       "      <td>1.019791</td>\n",
       "      <td>1.301645</td>\n",
       "      <td>1.466717</td>\n",
       "    </tr>\n",
       "    <tr>\n",
       "      <th>min</th>\n",
       "      <td>7.500000e+04</td>\n",
       "      <td>10.000000</td>\n",
       "      <td>1.000000</td>\n",
       "      <td>1.000000</td>\n",
       "      <td>0.000000</td>\n",
       "    </tr>\n",
       "    <tr>\n",
       "      <th>25%</th>\n",
       "      <td>4.500000e+05</td>\n",
       "      <td>120.000000</td>\n",
       "      <td>3.000000</td>\n",
       "      <td>2.000000</td>\n",
       "      <td>2.000000</td>\n",
       "    </tr>\n",
       "    <tr>\n",
       "      <th>50%</th>\n",
       "      <td>6.250000e+05</td>\n",
       "      <td>160.000000</td>\n",
       "      <td>3.000000</td>\n",
       "      <td>2.000000</td>\n",
       "      <td>2.000000</td>\n",
       "    </tr>\n",
       "    <tr>\n",
       "      <th>75%</th>\n",
       "      <td>8.500000e+05</td>\n",
       "      <td>238.000000</td>\n",
       "      <td>3.000000</td>\n",
       "      <td>3.000000</td>\n",
       "      <td>3.000000</td>\n",
       "    </tr>\n",
       "    <tr>\n",
       "      <th>max</th>\n",
       "      <td>8.000000e+07</td>\n",
       "      <td>4758.000000</td>\n",
       "      <td>32.000000</td>\n",
       "      <td>9.000000</td>\n",
       "      <td>19.000000</td>\n",
       "    </tr>\n",
       "  </tbody>\n",
       "</table>\n",
       "</div>"
      ],
      "text/plain": [
       "              preco         area      quartos    banheiros     garagens\n",
       "count  1.455000e+03  1455.000000  1455.000000  1455.000000  1455.000000\n",
       "mean   8.080155e+05   199.615120     3.104467     2.565636     2.326460\n",
       "std    2.151745e+06   171.987841     1.019791     1.301645     1.466717\n",
       "min    7.500000e+04    10.000000     1.000000     1.000000     0.000000\n",
       "25%    4.500000e+05   120.000000     3.000000     2.000000     2.000000\n",
       "50%    6.250000e+05   160.000000     3.000000     2.000000     2.000000\n",
       "75%    8.500000e+05   238.000000     3.000000     3.000000     3.000000\n",
       "max    8.000000e+07  4758.000000    32.000000     9.000000    19.000000"
      ]
     },
     "execution_count": 8,
     "metadata": {},
     "output_type": "execute_result"
    }
   ],
   "source": [
    "imoveis_df = pd.DataFrame({\n",
    "    'endereco': todos_enderecos,\n",
    "    'preco': todos_precos,\n",
    "    'area': todas_areas,\n",
    "    'quartos': todos_quartos,\n",
    "    'banheiros': todos_banheiros,\n",
    "    'garagens': todas_garagens\n",
    "})\n",
    "\n",
    "imoveis_df.describe()"
   ]
  },
  {
   "cell_type": "code",
   "execution_count": 9,
   "metadata": {},
   "outputs": [
    {
     "name": "stdout",
     "output_type": "stream",
     "text": [
      "<class 'pandas.core.frame.DataFrame'>\n",
      "RangeIndex: 1455 entries, 0 to 1454\n",
      "Data columns (total 6 columns):\n",
      " #   Column     Non-Null Count  Dtype \n",
      "---  ------     --------------  ----- \n",
      " 0   endereco   1455 non-null   object\n",
      " 1   preco      1455 non-null   int64 \n",
      " 2   area       1455 non-null   int64 \n",
      " 3   quartos    1455 non-null   int64 \n",
      " 4   banheiros  1455 non-null   int64 \n",
      " 5   garagens   1455 non-null   int64 \n",
      "dtypes: int64(5), object(1)\n",
      "memory usage: 68.3+ KB\n"
     ]
    }
   ],
   "source": [
    "imoveis_df.info()"
   ]
  },
  {
   "cell_type": "code",
   "execution_count": 10,
   "metadata": {},
   "outputs": [],
   "source": [
    "imoveis_df.to_csv('casas_zapimoveis.csv', index=False)"
   ]
  }
 ],
 "metadata": {
  "kernelspec": {
   "display_name": "Python 3.9.13 64-bit (microsoft store)",
   "language": "python",
   "name": "python3"
  },
  "language_info": {
   "codemirror_mode": {
    "name": "ipython",
    "version": 3
   },
   "file_extension": ".py",
   "mimetype": "text/x-python",
   "name": "python",
   "nbconvert_exporter": "python",
   "pygments_lexer": "ipython3",
   "version": "3.9.13"
  },
  "orig_nbformat": 4,
  "vscode": {
   "interpreter": {
    "hash": "44e092dbf5a2d7f854204366b602d774237af8617f169b3b06803da90d84e814"
   }
  }
 },
 "nbformat": 4,
 "nbformat_minor": 2
}
