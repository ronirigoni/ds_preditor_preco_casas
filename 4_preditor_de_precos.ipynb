{
 "cells": [
  {
   "cell_type": "markdown",
   "metadata": {},
   "source": [
    "# Preditor de Preços de Casas (Palmas-TO)"
   ]
  },
  {
   "cell_type": "code",
   "execution_count": 1,
   "metadata": {},
   "outputs": [],
   "source": [
    "import numpy as np\n",
    "import pandas as pd\n",
    "import requests\n",
    "import joblib\n",
    "import gmaps_api"
   ]
  },
  {
   "cell_type": "markdown",
   "metadata": {},
   "source": [
    "### Carregando o modelo desenvolvido"
   ]
  },
  {
   "cell_type": "markdown",
   "metadata": {},
   "source": [
    "Tanto o modelo de regressão quanto o 'scaler' foram criados no arquivo '3_desenvolvimento_do_modelo_ML.ipynb', e são apenas carregados aqui:"
   ]
  },
  {
   "cell_type": "code",
   "execution_count": 2,
   "metadata": {},
   "outputs": [],
   "source": [
    "modelo = joblib.load('ridge_final.model')\n",
    "scaler = joblib.load('padronizador_entrada.scaler')"
   ]
  },
  {
   "cell_type": "markdown",
   "metadata": {},
   "source": [
    "### Prevendo o preço das casas informadas pelo usuário"
   ]
  },
  {
   "cell_type": "code",
   "execution_count": 1,
   "metadata": {},
   "outputs": [],
   "source": [
    "# Valores informados pelo usuário (em um formulário, por exemplo):\n",
    "area = 200\n",
    "quartos = 3\n",
    "banheiros = 2\n",
    "garagens = 2\n",
    "endereco = 'Quadra 506 norte, Palmas, TO'"
   ]
  },
  {
   "cell_type": "markdown",
   "metadata": {},
   "source": [
    "Com o endereço fornecido pelo usuário, utilizamos a API do google maps para encontrar os valores de latitude e longitude:"
   ]
  },
  {
   "cell_type": "code",
   "execution_count": 7,
   "metadata": {},
   "outputs": [
    {
     "data": {
      "text/plain": [
       "(-10.1657998, -48.3136899)"
      ]
     },
     "execution_count": 7,
     "metadata": {},
     "output_type": "execute_result"
    }
   ],
   "source": [
    "# O módulo 'gmaps_api' foi criado por mim. Criei o módulo pois utilizamos esta função em outros notebooks\n",
    "latitude, longitude = gmaps_api.busca_coordenadas(endereco)\n",
    "latitude, longitude"
   ]
  },
  {
   "cell_type": "markdown",
   "metadata": {},
   "source": [
    "Organizamos os valores da entrada do usuário em um DataFrame:"
   ]
  },
  {
   "cell_type": "code",
   "execution_count": null,
   "metadata": {},
   "outputs": [],
   "source": [
    "# Formatando a entrada\n",
    "entradas_do_usuario = pd.DataFrame({\n",
    "    'area': [area],\n",
    "    'quartos': [quartos],\n",
    "    'banheiros': [banheiros],\n",
    "    'garagens': [garagens],\n",
    "    'latitude': [latitude],\n",
    "    'longitude': [longitude]\n",
    "})"
   ]
  },
  {
   "cell_type": "markdown",
   "metadata": {},
   "source": [
    "Por fim, escalonamos a entrada e utilizamos o modelo de ML para prever o preço do imóvel:"
   ]
  },
  {
   "cell_type": "code",
   "execution_count": 8,
   "metadata": {},
   "outputs": [
    {
     "data": {
      "text/plain": [
       "array([583466.16510675])"
      ]
     },
     "execution_count": 8,
     "metadata": {},
     "output_type": "execute_result"
    }
   ],
   "source": [
    "X_usr = scaler.transform(entradas_do_usuario)\n",
    "modelo.predict(X_usr)"
   ]
  }
 ],
 "metadata": {
  "kernelspec": {
   "display_name": "Python 3.9.13 64-bit (microsoft store)",
   "language": "python",
   "name": "python3"
  },
  "language_info": {
   "codemirror_mode": {
    "name": "ipython",
    "version": 3
   },
   "file_extension": ".py",
   "mimetype": "text/x-python",
   "name": "python",
   "nbconvert_exporter": "python",
   "pygments_lexer": "ipython3",
   "version": "3.9.13"
  },
  "orig_nbformat": 4,
  "vscode": {
   "interpreter": {
    "hash": "44e092dbf5a2d7f854204366b602d774237af8617f169b3b06803da90d84e814"
   }
  }
 },
 "nbformat": 4,
 "nbformat_minor": 2
}
