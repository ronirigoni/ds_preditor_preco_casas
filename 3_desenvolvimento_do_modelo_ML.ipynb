{
 "cells": [
  {
   "cell_type": "markdown",
   "metadata": {},
   "source": [
    "## Desenvolvimento do Modelo de Machine Learning (Regressão)"
   ]
  },
  {
   "cell_type": "markdown",
   "metadata": {},
   "source": [
    "### Carregamento dos dados"
   ]
  },
  {
   "cell_type": "code",
   "execution_count": 1,
   "metadata": {},
   "outputs": [],
   "source": [
    "import numpy as np\n",
    "import pandas as pd\n",
    "import matplotlib.pyplot as plt\n",
    "import seaborn as sns\n",
    "import joblib\n",
    "from sklearn.linear_model import LinearRegression\n",
    "from sklearn.linear_model import LassoCV\n",
    "from sklearn.linear_model import RidgeCV\n",
    "from sklearn.pipeline import Pipeline\n",
    "from sklearn.model_selection import GridSearchCV\n",
    "from sklearn.model_selection import RepeatedKFold\n",
    "from sklearn.model_selection import train_test_split\n",
    "from sklearn.preprocessing import StandardScaler\n",
    "from sklearn.metrics import mean_squared_error"
   ]
  },
  {
   "cell_type": "markdown",
   "metadata": {},
   "source": [
    "O csv carregado abaixo é o resultado do pré-processamento e AED feita no notebook 2_EDA_e_preprocessamento.ipynb"
   ]
  },
  {
   "cell_type": "code",
   "execution_count": 100,
   "metadata": {},
   "outputs": [
    {
     "data": {
      "text/html": [
       "<div>\n",
       "<style scoped>\n",
       "    .dataframe tbody tr th:only-of-type {\n",
       "        vertical-align: middle;\n",
       "    }\n",
       "\n",
       "    .dataframe tbody tr th {\n",
       "        vertical-align: top;\n",
       "    }\n",
       "\n",
       "    .dataframe thead th {\n",
       "        text-align: right;\n",
       "    }\n",
       "</style>\n",
       "<table border=\"1\" class=\"dataframe\">\n",
       "  <thead>\n",
       "    <tr style=\"text-align: right;\">\n",
       "      <th></th>\n",
       "      <th>endereco</th>\n",
       "      <th>preco</th>\n",
       "      <th>area</th>\n",
       "      <th>quartos</th>\n",
       "      <th>banheiros</th>\n",
       "      <th>garagens</th>\n",
       "      <th>latitude</th>\n",
       "      <th>longitude</th>\n",
       "    </tr>\n",
       "  </thead>\n",
       "  <tbody>\n",
       "    <tr>\n",
       "      <th>0</th>\n",
       "      <td>Plano Diretor Norte, Palmas</td>\n",
       "      <td>1000000</td>\n",
       "      <td>112</td>\n",
       "      <td>3</td>\n",
       "      <td>2</td>\n",
       "      <td>4</td>\n",
       "      <td>-10.170166</td>\n",
       "      <td>-48.333980</td>\n",
       "    </tr>\n",
       "    <tr>\n",
       "      <th>1</th>\n",
       "      <td>ARSO 43 Alameda 3, Plano Diretor Sul</td>\n",
       "      <td>625000</td>\n",
       "      <td>150</td>\n",
       "      <td>3</td>\n",
       "      <td>2</td>\n",
       "      <td>2</td>\n",
       "      <td>-10.215773</td>\n",
       "      <td>-48.334077</td>\n",
       "    </tr>\n",
       "    <tr>\n",
       "      <th>2</th>\n",
       "      <td>Quadra ARNE 64 Alameda 2, Plano Diretor Norte</td>\n",
       "      <td>315000</td>\n",
       "      <td>115</td>\n",
       "      <td>3</td>\n",
       "      <td>1</td>\n",
       "      <td>3</td>\n",
       "      <td>-10.156889</td>\n",
       "      <td>-48.313459</td>\n",
       "    </tr>\n",
       "    <tr>\n",
       "      <th>3</th>\n",
       "      <td>Plano Diretor Sul, Palmas</td>\n",
       "      <td>220000</td>\n",
       "      <td>86</td>\n",
       "      <td>2</td>\n",
       "      <td>2</td>\n",
       "      <td>2</td>\n",
       "      <td>-10.219647</td>\n",
       "      <td>-48.338964</td>\n",
       "    </tr>\n",
       "    <tr>\n",
       "      <th>4</th>\n",
       "      <td>Quadra ARSE 92 Alameda 4, Plano Diretor Sul</td>\n",
       "      <td>550000</td>\n",
       "      <td>190</td>\n",
       "      <td>4</td>\n",
       "      <td>2</td>\n",
       "      <td>2</td>\n",
       "      <td>-10.215587</td>\n",
       "      <td>-48.346005</td>\n",
       "    </tr>\n",
       "  </tbody>\n",
       "</table>\n",
       "</div>"
      ],
      "text/plain": [
       "                                        endereco    preco  area  quartos  \\\n",
       "0                    Plano Diretor Norte, Palmas  1000000   112        3   \n",
       "1           ARSO 43 Alameda 3, Plano Diretor Sul   625000   150        3   \n",
       "2  Quadra ARNE 64 Alameda 2, Plano Diretor Norte   315000   115        3   \n",
       "3                      Plano Diretor Sul, Palmas   220000    86        2   \n",
       "4    Quadra ARSE 92 Alameda 4, Plano Diretor Sul   550000   190        4   \n",
       "\n",
       "   banheiros  garagens   latitude  longitude  \n",
       "0          2         4 -10.170166 -48.333980  \n",
       "1          2         2 -10.215773 -48.334077  \n",
       "2          1         3 -10.156889 -48.313459  \n",
       "3          2         2 -10.219647 -48.338964  \n",
       "4          2         2 -10.215587 -48.346005  "
      ]
     },
     "execution_count": 100,
     "metadata": {},
     "output_type": "execute_result"
    }
   ],
   "source": [
    "imoveis = pd.read_csv('casas_zapimoveis_clean.csv')\n",
    "imoveis.head()"
   ]
  },
  {
   "cell_type": "markdown",
   "metadata": {},
   "source": [
    "### Definição das entradas e saídas do modelo"
   ]
  },
  {
   "cell_type": "code",
   "execution_count": 101,
   "metadata": {},
   "outputs": [],
   "source": [
    "X = imoveis.drop(['preco', 'endereco'], axis=1)\n",
    "y = imoveis['preco']\n",
    "\n",
    "X_train, X_test, y_train, y_test = train_test_split(X, y, test_size=0.25, random_state=42)"
   ]
  },
  {
   "cell_type": "markdown",
   "metadata": {},
   "source": [
    "### Padronização (scaling) das entradas"
   ]
  },
  {
   "cell_type": "code",
   "execution_count": 102,
   "metadata": {},
   "outputs": [],
   "source": [
    "scaler = StandardScaler()\n",
    "\n",
    "X_train = scaler.fit_transform(X_train)\n",
    "X_test = scaler.transform(X_test)"
   ]
  },
  {
   "cell_type": "markdown",
   "metadata": {},
   "source": [
    "### Regressão Linear"
   ]
  },
  {
   "cell_type": "markdown",
   "metadata": {},
   "source": [
    "O primeiro modelo que vamos criar é de Regressão Linear simples:"
   ]
  },
  {
   "cell_type": "code",
   "execution_count": 103,
   "metadata": {},
   "outputs": [],
   "source": [
    "lin_reg = LinearRegression()\n",
    "\n",
    "lin_reg.fit(X_train, y_train)\n",
    "lin_y_pred = lin_reg.predict(X_test)\n",
    "\n",
    "# Guardamos as métricas para depois avaliar qual é o melhor modelo\n",
    "lin_rmse = mean_squared_error(y_test, lin_y_pred, squared=False)\n",
    "lin_score_treino = lin_reg.score(X_train, y_train)\n",
    "lin_score_teste = lin_reg.score(X_test, y_test)"
   ]
  },
  {
   "cell_type": "markdown",
   "metadata": {},
   "source": [
    "### Regressão Ridge"
   ]
  },
  {
   "cell_type": "markdown",
   "metadata": {},
   "source": [
    "O segundo modelo que criamos é baseado na Regressão Rigde, que previne overfitting. Utilizamos Cross Validation para determinar o melhor parâmetro alpha do modelo."
   ]
  },
  {
   "cell_type": "code",
   "execution_count": 151,
   "metadata": {},
   "outputs": [],
   "source": [
    "cv = RepeatedKFold(n_splits=5, n_repeats=3, random_state=42)\n",
    "\n",
    "ridge = RidgeCV(alphas=np.arange(0.1, 20, 0.1), cv=cv, scoring='neg_mean_absolute_error')\n",
    "ridge.fit(X_train, y_train)\n",
    "ridge_y_pred = ridge.predict(X_test)\n",
    "\n",
    "# Guardamos as métricas para depois avaliar qual é o melhor modelo\n",
    "ridge_rmse = mean_squared_error(y_test, ridge_y_pred, squared=False)\n",
    "ridge_score_treino = ridge.score(X_train, y_train)\n",
    "ridge_score_teste = ridge.score(X_test, y_test)"
   ]
  },
  {
   "cell_type": "markdown",
   "metadata": {},
   "source": [
    "Obs.: Após testes verifiquei que aumentar o limite máximo do alpha nesse CV leva a uma melhora insignificante nas métricas, por isso mantive o valor máximo em 20."
   ]
  },
  {
   "cell_type": "markdown",
   "metadata": {},
   "source": [
    "### Regressão Lasso"
   ]
  },
  {
   "cell_type": "markdown",
   "metadata": {},
   "source": [
    "O terceiro modelo que criamos é baseado na Regressão Lasso, que também previne overfitting. Utilizamos Cross Validation para determinar o melhor parâmetro alpha do modelo."
   ]
  },
  {
   "cell_type": "code",
   "execution_count": 129,
   "metadata": {},
   "outputs": [],
   "source": [
    "lasso = LassoCV(alphas=np.arange(0.1, 20, 0.1), cv=cv)\n",
    "lasso.fit(X_train, y_train)\n",
    "lasso_y_pred = lasso.predict(X_test)\n",
    "\n",
    "lasso_rmse = mean_squared_error(y_test, lasso_y_pred, squared=False)\n",
    "lasso_score_treino = lasso.score(X_train, y_train)\n",
    "lasso_score_teste = lasso.score(X_test, y_test)"
   ]
  },
  {
   "cell_type": "markdown",
   "metadata": {},
   "source": [
    "Obs.: Após testes verifiquei que aumentar o limite máximo do alpha nesse CV leva a uma melhora insignificante nas métricas, por isso mantive o valor máximo em 20."
   ]
  },
  {
   "cell_type": "markdown",
   "metadata": {},
   "source": [
    "### Comparando os resultados"
   ]
  },
  {
   "cell_type": "code",
   "execution_count": 130,
   "metadata": {},
   "outputs": [
    {
     "data": {
      "text/html": [
       "<div>\n",
       "<style scoped>\n",
       "    .dataframe tbody tr th:only-of-type {\n",
       "        vertical-align: middle;\n",
       "    }\n",
       "\n",
       "    .dataframe tbody tr th {\n",
       "        vertical-align: top;\n",
       "    }\n",
       "\n",
       "    .dataframe thead th {\n",
       "        text-align: right;\n",
       "    }\n",
       "</style>\n",
       "<table border=\"1\" class=\"dataframe\">\n",
       "  <thead>\n",
       "    <tr style=\"text-align: right;\">\n",
       "      <th></th>\n",
       "      <th>Score Treino</th>\n",
       "      <th>Score Teste</th>\n",
       "      <th>RMSE</th>\n",
       "    </tr>\n",
       "  </thead>\n",
       "  <tbody>\n",
       "    <tr>\n",
       "      <th>Linear</th>\n",
       "      <td>0.540432</td>\n",
       "      <td>0.482927</td>\n",
       "      <td>366122.260083</td>\n",
       "    </tr>\n",
       "    <tr>\n",
       "      <th>Ridge</th>\n",
       "      <td>0.540331</td>\n",
       "      <td>0.483416</td>\n",
       "      <td>365949.054709</td>\n",
       "    </tr>\n",
       "    <tr>\n",
       "      <th>Lasso</th>\n",
       "      <td>0.540432</td>\n",
       "      <td>0.482924</td>\n",
       "      <td>366123.180761</td>\n",
       "    </tr>\n",
       "  </tbody>\n",
       "</table>\n",
       "</div>"
      ],
      "text/plain": [
       "        Score Treino  Score Teste           RMSE\n",
       "Linear      0.540432     0.482927  366122.260083\n",
       "Ridge       0.540331     0.483416  365949.054709\n",
       "Lasso       0.540432     0.482924  366123.180761"
      ]
     },
     "execution_count": 130,
     "metadata": {},
     "output_type": "execute_result"
    }
   ],
   "source": [
    "results = pd.DataFrame({\n",
    "    'Score Treino': [lin_score_treino, ridge_score_treino, lasso_score_treino],\n",
    "    'Score Teste': [lin_score_teste, ridge_score_teste, lasso_score_teste],\n",
    "    'RMSE': [lin_rmse, ridge_rmse, lasso_rmse]\n",
    "}, index=['Linear', 'Ridge', 'Lasso'])\n",
    "results"
   ]
  },
  {
   "cell_type": "markdown",
   "metadata": {},
   "source": [
    "### Escolhendo e Salvando o Melhor Modelo\n",
    "\n",
    "Como vimos acima, o modelo que desempenhou melhor foi a Regressão Ridge, tanto no score de teste como no RMSE. Portanto é o modelo Ridge que vamos salvar para utilizar na predição de novos imóveis (arquivo 4_preditor_de_precos.ipynb)"
   ]
  },
  {
   "cell_type": "code",
   "execution_count": 131,
   "metadata": {},
   "outputs": [
    {
     "name": "stdout",
     "output_type": "stream",
     "text": [
      "O modelo escolhido (Ridge) tem estes parâmetros:\n",
      "Alpha:  19.900000000000002\n",
      "Coeficientes:  [183106.1491094   55557.46152389 174866.14434879   5257.61589643\n",
      "  13773.25544349 -46459.01225472]\n",
      "Interseção:  722998.5971564258\n"
     ]
    }
   ],
   "source": [
    "print(\"O modelo escolhido (Ridge) tem estes parâmetros:\")\n",
    "print(\"Alpha: \", ridge.alpha_)\n",
    "print(\"Coeficientes: \", ridge.coef_)\n",
    "print(\"Interseção: \", ridge.intercept_)"
   ]
  },
  {
   "cell_type": "markdown",
   "metadata": {},
   "source": [
    "Salvando o modelo Ridge em um arquivo joblib, assim como o scaler:"
   ]
  },
  {
   "cell_type": "code",
   "execution_count": 135,
   "metadata": {},
   "outputs": [
    {
     "data": {
      "text/plain": [
       "['padronizador_entrada.scaler']"
      ]
     },
     "execution_count": 135,
     "metadata": {},
     "output_type": "execute_result"
    }
   ],
   "source": [
    "_ = joblib.dump(ridge, 'ridge_final.model')\n",
    "\n",
    "# Para utilizar o modelo Ridge precisamos padronizar a entrada, por isso precisamos gravar também o scaler treinado\n",
    "_ = joblib.dump(scaler, 'padronizador_entrada.scaler')"
   ]
  }
 ],
 "metadata": {
  "kernelspec": {
   "display_name": "Python 3.9.13 64-bit (microsoft store)",
   "language": "python",
   "name": "python3"
  },
  "language_info": {
   "codemirror_mode": {
    "name": "ipython",
    "version": 3
   },
   "file_extension": ".py",
   "mimetype": "text/x-python",
   "name": "python",
   "nbconvert_exporter": "python",
   "pygments_lexer": "ipython3",
   "version": "3.9.13"
  },
  "orig_nbformat": 4,
  "vscode": {
   "interpreter": {
    "hash": "44e092dbf5a2d7f854204366b602d774237af8617f169b3b06803da90d84e814"
   }
  }
 },
 "nbformat": 4,
 "nbformat_minor": 2
}
