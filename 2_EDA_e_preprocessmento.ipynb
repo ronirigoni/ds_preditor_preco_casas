{
 "cells": [
  {
   "cell_type": "markdown",
   "metadata": {},
   "source": [
    "# Análise Exploratória dos Dados e Pré-Processamento"
   ]
  },
  {
   "cell_type": "code",
   "execution_count": 1,
   "metadata": {},
   "outputs": [],
   "source": [
    "import numpy as np\n",
    "import pandas as pd\n",
    "import requests\n",
    "import matplotlib.pyplot as plt\n",
    "import seaborn as sns\n",
    "import gmaps_api"
   ]
  },
  {
   "cell_type": "markdown",
   "metadata": {},
   "source": [
    "Os dados, vindos do site zapimoveis.com.br, foram coletados e organizados em um csv através do arquivo '1_zapimoveis_scraper.ipynb'. Aqui nós carregamos estes dados:"
   ]
  },
  {
   "cell_type": "code",
   "execution_count": 3,
   "metadata": {},
   "outputs": [
    {
     "data": {
      "text/html": [
       "<div>\n",
       "<style scoped>\n",
       "    .dataframe tbody tr th:only-of-type {\n",
       "        vertical-align: middle;\n",
       "    }\n",
       "\n",
       "    .dataframe tbody tr th {\n",
       "        vertical-align: top;\n",
       "    }\n",
       "\n",
       "    .dataframe thead th {\n",
       "        text-align: right;\n",
       "    }\n",
       "</style>\n",
       "<table border=\"1\" class=\"dataframe\">\n",
       "  <thead>\n",
       "    <tr style=\"text-align: right;\">\n",
       "      <th></th>\n",
       "      <th>endereco</th>\n",
       "      <th>preco</th>\n",
       "      <th>area</th>\n",
       "      <th>quartos</th>\n",
       "      <th>banheiros</th>\n",
       "      <th>garagens</th>\n",
       "    </tr>\n",
       "  </thead>\n",
       "  <tbody>\n",
       "    <tr>\n",
       "      <th>0</th>\n",
       "      <td>Plano Diretor Norte, Palmas</td>\n",
       "      <td>1000000</td>\n",
       "      <td>112</td>\n",
       "      <td>3</td>\n",
       "      <td>2</td>\n",
       "      <td>4</td>\n",
       "    </tr>\n",
       "    <tr>\n",
       "      <th>1</th>\n",
       "      <td>ARSO 43 Alameda 3, Plano Diretor Sul</td>\n",
       "      <td>625000</td>\n",
       "      <td>150</td>\n",
       "      <td>3</td>\n",
       "      <td>2</td>\n",
       "      <td>2</td>\n",
       "    </tr>\n",
       "    <tr>\n",
       "      <th>2</th>\n",
       "      <td>Quadra ARNE 64 Alameda 2, Plano Diretor Norte</td>\n",
       "      <td>315000</td>\n",
       "      <td>115</td>\n",
       "      <td>3</td>\n",
       "      <td>1</td>\n",
       "      <td>3</td>\n",
       "    </tr>\n",
       "    <tr>\n",
       "      <th>3</th>\n",
       "      <td>Plano Diretor Sul, Palmas</td>\n",
       "      <td>220000</td>\n",
       "      <td>86</td>\n",
       "      <td>2</td>\n",
       "      <td>2</td>\n",
       "      <td>2</td>\n",
       "    </tr>\n",
       "    <tr>\n",
       "      <th>4</th>\n",
       "      <td>Quadra ARSE 92 Alameda 4, Plano Diretor Sul</td>\n",
       "      <td>550000</td>\n",
       "      <td>190</td>\n",
       "      <td>4</td>\n",
       "      <td>2</td>\n",
       "      <td>2</td>\n",
       "    </tr>\n",
       "  </tbody>\n",
       "</table>\n",
       "</div>"
      ],
      "text/plain": [
       "                                        endereco    preco  area  quartos  \\\n",
       "0                    Plano Diretor Norte, Palmas  1000000   112        3   \n",
       "1           ARSO 43 Alameda 3, Plano Diretor Sul   625000   150        3   \n",
       "2  Quadra ARNE 64 Alameda 2, Plano Diretor Norte   315000   115        3   \n",
       "3                      Plano Diretor Sul, Palmas   220000    86        2   \n",
       "4    Quadra ARSE 92 Alameda 4, Plano Diretor Sul   550000   190        4   \n",
       "\n",
       "   banheiros  garagens  \n",
       "0          2         4  \n",
       "1          2         2  \n",
       "2          1         3  \n",
       "3          2         2  \n",
       "4          2         2  "
      ]
     },
     "execution_count": 3,
     "metadata": {},
     "output_type": "execute_result"
    }
   ],
   "source": [
    "imoveis_df = pd.read_csv('casas_zapimoveis-13-set-22.csv')\n",
    "imoveis_df.head()"
   ]
  },
  {
   "cell_type": "markdown",
   "metadata": {},
   "source": [
    "## Pré-Processamento"
   ]
  },
  {
   "cell_type": "markdown",
   "metadata": {},
   "source": [
    "### Adicionando Latitude e Longitude de cada imóvel\n",
    "\n",
    "Utilizaremos o endereço de cada imóvel para realizar uma busca no Google Maps, através da API Geocode do próprio Google, e ter como retorno as coordenadas de Latitude e Longitude de cada imóvel. Esses valores servirão de entrada para nosso modelo de Machine Learning futuramente."
   ]
  },
  {
   "cell_type": "code",
   "execution_count": 5,
   "metadata": {},
   "outputs": [],
   "source": [
    "# Esta é apenas uma interface para retornar o resultado como uma Series, e assim ser compatível com .apply do Pandas\n",
    "def lat_long_google_api(enderco_ou_cep):\n",
    "    \n",
    "    lat, lng = gmaps_api.busca_coordenadas(enderco_ou_cep)\n",
    "\n",
    "    return pd.Series({'latitude': lat, 'longitude': lng})"
   ]
  },
  {
   "cell_type": "markdown",
   "metadata": {},
   "source": [
    "Para cada entrada do nosso DataFrame, executamos a busca de Latitude/Longitude. Esta execução é demorada e PODE GERAR CUSTOS NA SUA CONTA GOOGLE, por isso incluímos uma proteção contra execução não proposital."
   ]
  },
  {
   "cell_type": "code",
   "execution_count": 6,
   "metadata": {},
   "outputs": [],
   "source": [
    "EXECUTAR_ESTA_CELULA = False\n",
    "\n",
    "if(EXECUTAR_ESTA_CELULA):\n",
    "    \n",
    "    lat_longs = imoveis_df['endereco'].apply(lat_long_google_api)\n",
    "\n",
    "    # Guardamos os resultados em novas colunas do DF\n",
    "    imoveis_df['latitude'] = lat_longs['latitude']\n",
    "    imoveis_df['longitude'] = lat_longs['longitude']\n",
    "\n",
    "    # Para não precisar sempre executar essa célula (CUSTOS), guardamos os resultados em um arquivo\n",
    "    imoveis_df.to_csv('casas_zapimoveis_com_lat_long.csv', index=False)\n",
    "\n",
    "    imoveis_df.head()"
   ]
  },
  {
   "cell_type": "markdown",
   "metadata": {},
   "source": [
    "Como a execução da célula acima não é obrigatória, seguimos nossa análisa carregando os dados (com latitude e longitude) de um arquivo:"
   ]
  },
  {
   "cell_type": "code",
   "execution_count": 7,
   "metadata": {},
   "outputs": [
    {
     "name": "stdout",
     "output_type": "stream",
     "text": [
      "Shape do dataFrame carregado:  (1455, 8)\n"
     ]
    },
    {
     "data": {
      "text/html": [
       "<div>\n",
       "<style scoped>\n",
       "    .dataframe tbody tr th:only-of-type {\n",
       "        vertical-align: middle;\n",
       "    }\n",
       "\n",
       "    .dataframe tbody tr th {\n",
       "        vertical-align: top;\n",
       "    }\n",
       "\n",
       "    .dataframe thead th {\n",
       "        text-align: right;\n",
       "    }\n",
       "</style>\n",
       "<table border=\"1\" class=\"dataframe\">\n",
       "  <thead>\n",
       "    <tr style=\"text-align: right;\">\n",
       "      <th></th>\n",
       "      <th>endereco</th>\n",
       "      <th>preco</th>\n",
       "      <th>area</th>\n",
       "      <th>quartos</th>\n",
       "      <th>banheiros</th>\n",
       "      <th>garagens</th>\n",
       "      <th>latitude</th>\n",
       "      <th>longitude</th>\n",
       "    </tr>\n",
       "  </thead>\n",
       "  <tbody>\n",
       "    <tr>\n",
       "      <th>0</th>\n",
       "      <td>Plano Diretor Norte, Palmas</td>\n",
       "      <td>1000000</td>\n",
       "      <td>112</td>\n",
       "      <td>3</td>\n",
       "      <td>2</td>\n",
       "      <td>4</td>\n",
       "      <td>-10.170166</td>\n",
       "      <td>-48.333980</td>\n",
       "    </tr>\n",
       "    <tr>\n",
       "      <th>1</th>\n",
       "      <td>ARSO 43 Alameda 3, Plano Diretor Sul</td>\n",
       "      <td>625000</td>\n",
       "      <td>150</td>\n",
       "      <td>3</td>\n",
       "      <td>2</td>\n",
       "      <td>2</td>\n",
       "      <td>-10.215773</td>\n",
       "      <td>-48.334077</td>\n",
       "    </tr>\n",
       "    <tr>\n",
       "      <th>2</th>\n",
       "      <td>Quadra ARNE 64 Alameda 2, Plano Diretor Norte</td>\n",
       "      <td>315000</td>\n",
       "      <td>115</td>\n",
       "      <td>3</td>\n",
       "      <td>1</td>\n",
       "      <td>3</td>\n",
       "      <td>-10.156889</td>\n",
       "      <td>-48.313459</td>\n",
       "    </tr>\n",
       "    <tr>\n",
       "      <th>3</th>\n",
       "      <td>Plano Diretor Sul, Palmas</td>\n",
       "      <td>220000</td>\n",
       "      <td>86</td>\n",
       "      <td>2</td>\n",
       "      <td>2</td>\n",
       "      <td>2</td>\n",
       "      <td>-10.219647</td>\n",
       "      <td>-48.338964</td>\n",
       "    </tr>\n",
       "    <tr>\n",
       "      <th>4</th>\n",
       "      <td>Quadra ARSE 92 Alameda 4, Plano Diretor Sul</td>\n",
       "      <td>550000</td>\n",
       "      <td>190</td>\n",
       "      <td>4</td>\n",
       "      <td>2</td>\n",
       "      <td>2</td>\n",
       "      <td>-10.215587</td>\n",
       "      <td>-48.346005</td>\n",
       "    </tr>\n",
       "  </tbody>\n",
       "</table>\n",
       "</div>"
      ],
      "text/plain": [
       "                                        endereco    preco  area  quartos  \\\n",
       "0                    Plano Diretor Norte, Palmas  1000000   112        3   \n",
       "1           ARSO 43 Alameda 3, Plano Diretor Sul   625000   150        3   \n",
       "2  Quadra ARNE 64 Alameda 2, Plano Diretor Norte   315000   115        3   \n",
       "3                      Plano Diretor Sul, Palmas   220000    86        2   \n",
       "4    Quadra ARSE 92 Alameda 4, Plano Diretor Sul   550000   190        4   \n",
       "\n",
       "   banheiros  garagens   latitude  longitude  \n",
       "0          2         4 -10.170166 -48.333980  \n",
       "1          2         2 -10.215773 -48.334077  \n",
       "2          1         3 -10.156889 -48.313459  \n",
       "3          2         2 -10.219647 -48.338964  \n",
       "4          2         2 -10.215587 -48.346005  "
      ]
     },
     "execution_count": 7,
     "metadata": {},
     "output_type": "execute_result"
    }
   ],
   "source": [
    "imoveis = pd.read_csv('casas_zapimoveis_com_lat_long.csv')\n",
    "print(\"Shape do dataFrame carregado: \", imoveis.shape)\n",
    "imoveis.head()"
   ]
  },
  {
   "cell_type": "markdown",
   "metadata": {},
   "source": [
    "### Tratando valores faltantes\n",
    "\n",
    "Há dados faltantes? Quantos? Como trataremos?"
   ]
  },
  {
   "cell_type": "code",
   "execution_count": 8,
   "metadata": {},
   "outputs": [
    {
     "data": {
      "text/plain": [
       "endereco      0\n",
       "preco         0\n",
       "area          0\n",
       "quartos       0\n",
       "banheiros     0\n",
       "garagens      0\n",
       "latitude     13\n",
       "longitude    13\n",
       "dtype: int64"
      ]
     },
     "execution_count": 8,
     "metadata": {},
     "output_type": "execute_result"
    }
   ],
   "source": [
    "imoveis.isnull().sum()"
   ]
  },
  {
   "cell_type": "markdown",
   "metadata": {},
   "source": [
    "Só temos 13 entradas nulas de latitude/longitude dentre mais de 1550 entradas. Então vamos simplesmente excluí-las"
   ]
  },
  {
   "cell_type": "code",
   "execution_count": 9,
   "metadata": {},
   "outputs": [
    {
     "data": {
      "text/plain": [
       "(1442, 8)"
      ]
     },
     "execution_count": 9,
     "metadata": {},
     "output_type": "execute_result"
    }
   ],
   "source": [
    "imoveis.dropna(inplace=True)\n",
    "imoveis.shape"
   ]
  },
  {
   "cell_type": "markdown",
   "metadata": {},
   "source": [
    "## Análise Exploratória de Dados (EDA)"
   ]
  },
  {
   "cell_type": "markdown",
   "metadata": {},
   "source": [
    "### Como é a distribuição de preços?"
   ]
  },
  {
   "cell_type": "code",
   "execution_count": 10,
   "metadata": {},
   "outputs": [
    {
     "data": {
      "image/png": "[encoded data removed]",
      "text/plain": [
       "<Figure size 576x288 with 1 Axes>"
      ]
     },
     "metadata": {},
     "output_type": "display_data"
    }
   ],
   "source": [
    "sns.set()\n",
    "fig = sns.displot(imoveis, x='preco')\n",
    "_ = fig.figure.set_size_inches(8, 4)\n",
    "_ = plt.suptitle(\"Distribuição dos Preços\", fontsize = 14)"
   ]
  },
  {
   "cell_type": "markdown",
   "metadata": {},
   "source": [
    "Pelo histograma vemos claramente que podemos considerar preços acima de 3.5mi como outliers e excluí-los:"
   ]
  },
  {
   "cell_type": "code",
   "execution_count": 11,
   "metadata": {},
   "outputs": [
    {
     "data": {
      "text/plain": [
       "(1436, 8)"
      ]
     },
     "execution_count": 11,
     "metadata": {},
     "output_type": "execute_result"
    }
   ],
   "source": [
    "imoveis = imoveis[imoveis['preco'] < 3500000]\n",
    "imoveis.shape"
   ]
  },
  {
   "cell_type": "markdown",
   "metadata": {},
   "source": [
    "### Como é a distribuição de áreas?"
   ]
  },
  {
   "cell_type": "code",
   "execution_count": 12,
   "metadata": {},
   "outputs": [
    {
     "data": {
      "image/png": "[encoded data removed]",
      "text/plain": [
       "<Figure size 576x288 with 1 Axes>"
      ]
     },
     "metadata": {},
     "output_type": "display_data"
    }
   ],
   "source": [
    "fig = sns.displot(imoveis, x='area')\n",
    "_ = fig.figure.set_size_inches(8, 4)\n",
    "_ = plt.suptitle(\"Distribuição das Áreas\", fontsize = 14)"
   ]
  },
  {
   "cell_type": "markdown",
   "metadata": {},
   "source": [
    "Claramente os imóveis que apresentam área maior que 800 metros quadrados foram mal classificados como casas, portanto podemos eliminá-los da nossa análise:"
   ]
  },
  {
   "cell_type": "code",
   "execution_count": 13,
   "metadata": {},
   "outputs": [
    {
     "data": {
      "text/plain": [
       "(1430, 8)"
      ]
     },
     "execution_count": 13,
     "metadata": {},
     "output_type": "execute_result"
    }
   ],
   "source": [
    "imoveis = imoveis[imoveis['area'] < 800]\n",
    "imoveis.shape"
   ]
  },
  {
   "cell_type": "markdown",
   "metadata": {},
   "source": [
    "### Como são as distribuições de quartos, banheiros e garagens?"
   ]
  },
  {
   "cell_type": "code",
   "execution_count": 14,
   "metadata": {},
   "outputs": [
    {
     "data": {
      "image/png": "[encoded data removed]",
      "text/plain": [
       "<Figure size 1728x432 with 3 Axes>"
      ]
     },
     "metadata": {},
     "output_type": "display_data"
    }
   ],
   "source": [
    "fig, ax = plt.subplots(1,3)\n",
    "_ = fig.figure.set_size_inches(24,6)\n",
    "_ = sns.histplot(imoveis, x='quartos', discrete=True, ax=ax[0])\n",
    "_ = sns.histplot(imoveis, x='banheiros', discrete=True, ax=ax[1])\n",
    "_ = sns.histplot(imoveis, x='garagens', discrete=True, ax=ax[2])"
   ]
  },
  {
   "cell_type": "markdown",
   "metadata": {},
   "source": [
    "Pelos gráficos podemos considerar claros outliers: quartos > 7, banheiros > 8 e garagens > 7:"
   ]
  },
  {
   "cell_type": "code",
   "execution_count": 15,
   "metadata": {},
   "outputs": [
    {
     "data": {
      "text/plain": [
       "(1420, 8)"
      ]
     },
     "execution_count": 15,
     "metadata": {},
     "output_type": "execute_result"
    }
   ],
   "source": [
    "imoveis = imoveis[ (imoveis['quartos']<7) & (imoveis['banheiros']<8) & (imoveis['garagens']<7) ]\n",
    "imoveis.shape"
   ]
  },
  {
   "cell_type": "markdown",
   "metadata": {},
   "source": [
    "Verificando o resultado, após limpeza:"
   ]
  },
  {
   "cell_type": "code",
   "execution_count": 16,
   "metadata": {},
   "outputs": [
    {
     "data": {
      "image/png": "[encoded data removed]",
      "text/plain": [
       "<Figure size 1728x432 with 3 Axes>"
      ]
     },
     "metadata": {},
     "output_type": "display_data"
    }
   ],
   "source": [
    "fig, ax = plt.subplots(1,3)\n",
    "_ = fig.figure.set_size_inches(24,6)\n",
    "_ = sns.histplot(imoveis, x='quartos', discrete=True, ax=ax[0])\n",
    "_ = sns.histplot(imoveis, x='banheiros', discrete=True, ax=ax[1])\n",
    "_ = sns.histplot(imoveis, x='garagens', discrete=True, ax=ax[2])"
   ]
  },
  {
   "cell_type": "markdown",
   "metadata": {},
   "source": [
    "### As coordenadas espaciais (latitude e longitude) parecem corretas?\n",
    "\n",
    "Primeiramente abrimos o Google Maps e verificamos as coordenadas de quatro pontos que determinam uma área (aproximada) da cidade de Palmas. Então verificamos que os quatro pontos tem latitude no formato -10.XXXXXX e longitude -48.XXXXXX.\n",
    "Abaixo vamos verificar quantas coordenada não estão dentro dessas magnitudes:"
   ]
  },
  {
   "cell_type": "code",
   "execution_count": 17,
   "metadata": {},
   "outputs": [
    {
     "name": "stdout",
     "output_type": "stream",
     "text": [
      "Latitudes erradas:  11\n",
      "Longitudes erradas:  10\n"
     ]
    }
   ],
   "source": [
    "print(\"Latitudes erradas: \", len(imoveis[ imoveis['latitude'].apply(lambda x: int(x) != -10) ]))\n",
    "print(\"Longitudes erradas: \", len(imoveis[ imoveis['longitude'].apply(lambda x: int(x) != -48) ]))"
   ]
  },
  {
   "cell_type": "markdown",
   "metadata": {},
   "source": [
    "Portanto teremos no máximo mais 21 entradas excluídas. Vamos excluir e ver quantas são:"
   ]
  },
  {
   "cell_type": "code",
   "execution_count": 18,
   "metadata": {},
   "outputs": [
    {
     "name": "stdout",
     "output_type": "stream",
     "text": [
      "Número de entradas, antes de excluir:  1420\n",
      "Número de entradas, depois de excluir:  1409\n"
     ]
    }
   ],
   "source": [
    "print(\"Número de entradas, antes de excluir: \", imoveis.shape[0])\n",
    "imoveis = imoveis[imoveis['latitude'].apply(lambda x: int(x) == -10)]\n",
    "imoveis = imoveis[imoveis['longitude'].apply(lambda x: int(x) == -48)]\n",
    "print(\"Número de entradas, depois de excluir: \", imoveis.shape[0])"
   ]
  },
  {
   "cell_type": "markdown",
   "metadata": {},
   "source": [
    "Agora que excluímos os valores absurdos, vamos plotar as coordenadas:"
   ]
  },
  {
   "cell_type": "code",
   "execution_count": 19,
   "metadata": {},
   "outputs": [
    {
     "data": {
      "image/png": "[encoded data removed]",
      "text/plain": [
       "<Figure size 432x288 with 1 Axes>"
      ]
     },
     "metadata": {},
     "output_type": "display_data"
    }
   ],
   "source": [
    "_ = sns.scatterplot(data=imoveis, x='latitude', y='longitude')"
   ]
  },
  {
   "cell_type": "markdown",
   "metadata": {},
   "source": [
    "Agora identificamos um ponto isolado, que, ao verificarmos pelo Google Maps, este se mostra numa área rural muito afastada da cidade (talvez fazendo parte já de outra) cidade. Por isso vamos eliminar este ponto também:"
   ]
  },
  {
   "cell_type": "code",
   "execution_count": 20,
   "metadata": {},
   "outputs": [
    {
     "data": {
      "text/plain": [
       "(1407, 8)"
      ]
     },
     "execution_count": 20,
     "metadata": {},
     "output_type": "execute_result"
    }
   ],
   "source": [
    "imoveis = imoveis[imoveis['longitude'] < -48.25]\n",
    "imoveis.shape"
   ]
  },
  {
   "cell_type": "markdown",
   "metadata": {},
   "source": [
    "### Por fim, há multicolinearidade?"
   ]
  },
  {
   "cell_type": "code",
   "execution_count": 21,
   "metadata": {},
   "outputs": [
    {
     "data": {
      "image/png": "[encoded data removed]",
      "text/plain": [
       "<Figure size 504x360 with 2 Axes>"
      ]
     },
     "metadata": {},
     "output_type": "display_data"
    }
   ],
   "source": [
    "plt.figure(figsize=(7,5))\n",
    "sns.heatmap(imoveis.corr(),\n",
    "            vmin = -1, \n",
    "            vmax = 1,\n",
    "            cmap =\"GnBu\",\n",
    "            annot=True)\n",
    "plt.show()"
   ]
  },
  {
   "cell_type": "markdown",
   "metadata": {},
   "source": [
    "Uma correlação moderada entre preço, área, quartos e banheiros já era esperada, por isso esses parâmetros serão os mais importantes na determinação do preço do imóvel.\n",
    "A localização do imóvel mostrou fraca correlação com o preço, porém devemos ter em mente que a maioria dos imóveis levantados aparecem com um endereço genérico, como \"Plano Diretor Sul, Palmas\"."
   ]
  },
  {
   "cell_type": "markdown",
   "metadata": {},
   "source": [
    "## Concluindo a EDA e o Pré-Processamento\n",
    "\n",
    "Iniciamos nossa análise com 1455 entradas e finalizamos com 1407, uma redução de apenas 3.3%, portanto perdemos muito pouca informação no processo. Veja abaixo um panorama dos valores do dataframe final:"
   ]
  },
  {
   "cell_type": "code",
   "execution_count": 22,
   "metadata": {},
   "outputs": [
    {
     "data": {
      "text/html": [
       "<div>\n",
       "<style scoped>\n",
       "    .dataframe tbody tr th:only-of-type {\n",
       "        vertical-align: middle;\n",
       "    }\n",
       "\n",
       "    .dataframe tbody tr th {\n",
       "        vertical-align: top;\n",
       "    }\n",
       "\n",
       "    .dataframe thead th {\n",
       "        text-align: right;\n",
       "    }\n",
       "</style>\n",
       "<table border=\"1\" class=\"dataframe\">\n",
       "  <thead>\n",
       "    <tr style=\"text-align: right;\">\n",
       "      <th></th>\n",
       "      <th>preco</th>\n",
       "      <th>area</th>\n",
       "      <th>quartos</th>\n",
       "      <th>banheiros</th>\n",
       "      <th>garagens</th>\n",
       "      <th>latitude</th>\n",
       "      <th>longitude</th>\n",
       "    </tr>\n",
       "  </thead>\n",
       "  <tbody>\n",
       "    <tr>\n",
       "      <th>count</th>\n",
       "      <td>1.407000e+03</td>\n",
       "      <td>1407.000000</td>\n",
       "      <td>1407.000000</td>\n",
       "      <td>1407.000000</td>\n",
       "      <td>1407.000000</td>\n",
       "      <td>1407.000000</td>\n",
       "      <td>1407.000000</td>\n",
       "    </tr>\n",
       "    <tr>\n",
       "      <th>mean</th>\n",
       "      <td>7.235935e+05</td>\n",
       "      <td>187.903340</td>\n",
       "      <td>3.064677</td>\n",
       "      <td>2.520256</td>\n",
       "      <td>2.263682</td>\n",
       "      <td>-10.220257</td>\n",
       "      <td>-48.336406</td>\n",
       "    </tr>\n",
       "    <tr>\n",
       "      <th>std</th>\n",
       "      <td>4.892076e+05</td>\n",
       "      <td>99.237759</td>\n",
       "      <td>0.647302</td>\n",
       "      <td>1.238653</td>\n",
       "      <td>1.290951</td>\n",
       "      <td>0.031131</td>\n",
       "      <td>0.010300</td>\n",
       "    </tr>\n",
       "    <tr>\n",
       "      <th>min</th>\n",
       "      <td>7.500000e+04</td>\n",
       "      <td>10.000000</td>\n",
       "      <td>1.000000</td>\n",
       "      <td>1.000000</td>\n",
       "      <td>0.000000</td>\n",
       "      <td>-10.369013</td>\n",
       "      <td>-48.365767</td>\n",
       "    </tr>\n",
       "    <tr>\n",
       "      <th>25%</th>\n",
       "      <td>4.470000e+05</td>\n",
       "      <td>120.000000</td>\n",
       "      <td>3.000000</td>\n",
       "      <td>2.000000</td>\n",
       "      <td>2.000000</td>\n",
       "      <td>-10.219647</td>\n",
       "      <td>-48.338964</td>\n",
       "    </tr>\n",
       "    <tr>\n",
       "      <th>50%</th>\n",
       "      <td>6.250000e+05</td>\n",
       "      <td>158.000000</td>\n",
       "      <td>3.000000</td>\n",
       "      <td>2.000000</td>\n",
       "      <td>2.000000</td>\n",
       "      <td>-10.219647</td>\n",
       "      <td>-48.338964</td>\n",
       "    </tr>\n",
       "    <tr>\n",
       "      <th>75%</th>\n",
       "      <td>8.100000e+05</td>\n",
       "      <td>230.000000</td>\n",
       "      <td>3.000000</td>\n",
       "      <td>3.000000</td>\n",
       "      <td>3.000000</td>\n",
       "      <td>-10.215773</td>\n",
       "      <td>-48.334077</td>\n",
       "    </tr>\n",
       "    <tr>\n",
       "      <th>max</th>\n",
       "      <td>3.400000e+06</td>\n",
       "      <td>741.000000</td>\n",
       "      <td>6.000000</td>\n",
       "      <td>7.000000</td>\n",
       "      <td>6.000000</td>\n",
       "      <td>-10.139202</td>\n",
       "      <td>-48.283533</td>\n",
       "    </tr>\n",
       "  </tbody>\n",
       "</table>\n",
       "</div>"
      ],
      "text/plain": [
       "              preco         area      quartos    banheiros     garagens  \\\n",
       "count  1.407000e+03  1407.000000  1407.000000  1407.000000  1407.000000   \n",
       "mean   7.235935e+05   187.903340     3.064677     2.520256     2.263682   \n",
       "std    4.892076e+05    99.237759     0.647302     1.238653     1.290951   \n",
       "min    7.500000e+04    10.000000     1.000000     1.000000     0.000000   \n",
       "25%    4.470000e+05   120.000000     3.000000     2.000000     2.000000   \n",
       "50%    6.250000e+05   158.000000     3.000000     2.000000     2.000000   \n",
       "75%    8.100000e+05   230.000000     3.000000     3.000000     3.000000   \n",
       "max    3.400000e+06   741.000000     6.000000     7.000000     6.000000   \n",
       "\n",
       "          latitude    longitude  \n",
       "count  1407.000000  1407.000000  \n",
       "mean    -10.220257   -48.336406  \n",
       "std       0.031131     0.010300  \n",
       "min     -10.369013   -48.365767  \n",
       "25%     -10.219647   -48.338964  \n",
       "50%     -10.219647   -48.338964  \n",
       "75%     -10.215773   -48.334077  \n",
       "max     -10.139202   -48.283533  "
      ]
     },
     "execution_count": 22,
     "metadata": {},
     "output_type": "execute_result"
    }
   ],
   "source": [
    "imoveis.describe()"
   ]
  },
  {
   "cell_type": "markdown",
   "metadata": {},
   "source": [
    "Finalizamos gravando os dados tratados em um arquivo CSV:"
   ]
  },
  {
   "cell_type": "code",
   "execution_count": 23,
   "metadata": {},
   "outputs": [],
   "source": [
    "imoveis.to_csv('casas_zapimoveis_clean.csv', index=False)"
   ]
  }
 ],
 "metadata": {
  "kernelspec": {
   "display_name": "Python 3.9.13 64-bit (microsoft store)",
   "language": "python",
   "name": "python3"
  },
  "language_info": {
   "codemirror_mode": {
    "name": "ipython",
    "version": 3
   },
   "file_extension": ".py",
   "mimetype": "text/x-python",
   "name": "python",
   "nbconvert_exporter": "python",
   "pygments_lexer": "ipython3",
   "version": "3.9.13"
  },
  "orig_nbformat": 4,
  "vscode": {
   "interpreter": {
    "hash": "44e092dbf5a2d7f854204366b602d774237af8617f169b3b06803da90d84e814"
   }
  }
 },
 "nbformat": 4,
 "nbformat_minor": 2
}
